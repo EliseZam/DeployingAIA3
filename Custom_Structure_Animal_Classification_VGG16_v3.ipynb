{
 "cells": [
  {
   "cell_type": "markdown",
   "metadata": {},
   "source": [
    "# Custom Structure Animal Classification with VGG16\n",
    "\n",
    "This notebook demonstrates using a pre-trained VGG16 model to classify images of animals native to Ontario.  \n",
    "The animals included are red fox, mink, beaver, and black bear.  \n",
    "The process includes:\n",
    "- Using a custom dataset structure,\n",
    "- Extracting features using a pre-trained model,\n",
    "- Training a classification model using Keras and TensorFlow.\n"
   ]
  },
  {
   "cell_type": "code",
   "execution_count": 1,
   "metadata": {},
   "outputs": [
    {
     "name": "stdout",
     "output_type": "stream",
     "text": [
      "2.16.2\n",
      "[PhysicalDevice(name='/physical_device:GPU:0', device_type='GPU')]\n"
     ]
    }
   ],
   "source": [
    "import tensorflow as tf\n",
    "print(tf.__version__)\n",
    "print(tf.config.list_physical_devices('GPU'))\n"
   ]
  },
  {
   "cell_type": "code",
   "execution_count": 2,
   "metadata": {},
   "outputs": [],
   "source": [
    "# Importing necessary libraries\n",
    "import os\n",
    "import matplotlib.pyplot as plt\n",
    "from tensorflow.keras.preprocessing.image import ImageDataGenerator\n",
    "from tensorflow.keras.applications import VGG16\n",
    "from tensorflow.keras.models import Sequential\n",
    "from tensorflow.keras.layers import Dense, Dropout, Flatten\n",
    "from tensorflow.keras.optimizers import Adam\n",
    "import numpy as np\n",
    "from tensorflow.keras.utils import to_categorical\n"
   ]
  },
  {
   "cell_type": "code",
   "execution_count": 3,
   "metadata": {},
   "outputs": [],
   "source": [
    "# Define the correct base directory\n",
    "base_dir = '/Users/EliseZamora_1/Documents/School/Education/Animal_Classification_Project/data'\n",
    "\n",
    "# Paths to training folders for each animal class\n",
    "train_dirs = [\n",
    "    os.path.join(base_dir, 'red_fox/data/train/red_fox'),\n",
    "    os.path.join(base_dir, 'black_bear/data/train/black_bear'),\n",
    "    os.path.join(base_dir, 'beaver/data/train/beaver'),\n",
    "    os.path.join(base_dir, 'mink/data/train/mink')\n",
    "]\n",
    "\n",
    "# Paths to validation folders for each animal class\n",
    "val_dirs = [\n",
    "    os.path.join(base_dir, 'red_fox/data/val/red_fox'),\n",
    "    os.path.join(base_dir, 'black_bear/data/val/black_bear'),\n",
    "    os.path.join(base_dir, 'beaver/data/val/beaver'),\n",
    "    os.path.join(base_dir, 'mink/data/val/mink')\n",
    "]\n"
   ]
  },
  {
   "cell_type": "code",
   "execution_count": 4,
   "metadata": {},
   "outputs": [],
   "source": [
    "# Map class names to numeric indices\n",
    "class_indices = {\n",
    "    'beaver': 0,\n",
    "    'black_bear': 1,\n",
    "    'mink': 2,\n",
    "    'red_fox': 3\n",
    "}\n"
   ]
  },
  {
   "cell_type": "code",
   "execution_count": 11,
   "metadata": {},
   "outputs": [],
   "source": [
    "# Custom generator to yield batches of images with one-hot encoded labels\n",
    "def custom_generator_with_labels(generators, class_indices):\n",
    "    \"\"\"\n",
    "    This function combines multiple data generators and maps their outputs \n",
    "    to one-hot encoded labels for training or validation.\n",
    "    \"\"\"\n",
    "    while True:\n",
    "        for gen in generators:\n",
    "            x, y = next(gen)\n",
    "            class_name = list(gen.class_indices.keys())[0]\n",
    "            class_index = class_indices[class_name]\n",
    "            y_one_hot = to_categorical([class_index] * len(y), num_classes=4)\n",
    "            yield x, y_one_hot\n"
   ]
  },
  {
   "cell_type": "code",
   "execution_count": 12,
   "metadata": {},
   "outputs": [
    {
     "name": "stdout",
     "output_type": "stream",
     "text": [
      "Found 1395 images belonging to 1 classes.\n",
      "Found 1297 images belonging to 1 classes.\n",
      "Found 1303 images belonging to 1 classes.\n",
      "Found 1317 images belonging to 1 classes.\n",
      "Found 346 images belonging to 1 classes.\n",
      "Found 379 images belonging to 1 classes.\n",
      "Found 405 images belonging to 1 classes.\n",
      "Found 412 images belonging to 1 classes.\n"
     ]
    }
   ],
   "source": [
    "# Create ImageDataGenerator instances for training and validation\n",
    "train_datagen = ImageDataGenerator(rescale=1.0/255)\n",
    "val_datagen = ImageDataGenerator(rescale=1.0/255)\n",
    "\n",
    "# Function to create generators for each class folder\n",
    "def create_generators(datagen, dirs):\n",
    "    \"\"\"\n",
    "    Creates a list of data generators for each folder.\n",
    "    \"\"\"\n",
    "    generators = []\n",
    "    for dir_path in dirs:\n",
    "        if os.path.exists(dir_path):\n",
    "            gen = datagen.flow_from_directory(\n",
    "                os.path.dirname(dir_path),\n",
    "                target_size=(224, 224),\n",
    "                classes=[os.path.basename(dir_path)],\n",
    "                batch_size=32,\n",
    "                class_mode='categorical'\n",
    "            )\n",
    "            generators.append(gen)\n",
    "    return generators\n",
    "\n",
    "# Create generators for training and validation\n",
    "train_generators = create_generators(train_datagen, train_dirs)\n",
    "val_generators = create_generators(val_datagen, val_dirs)\n"
   ]
  },
  {
   "cell_type": "code",
   "execution_count": 13,
   "metadata": {},
   "outputs": [
    {
     "name": "stdout",
     "output_type": "stream",
     "text": [
      "Verifying training directories and image counts...\n",
      "Found: /Users/EliseZamora_1/Documents/School/Education/Animal_Classification_Project/data/red_fox/data/train/red_fox - 1395 images\n",
      "Found: /Users/EliseZamora_1/Documents/School/Education/Animal_Classification_Project/data/black_bear/data/train/black_bear - 1297 images\n",
      "Found: /Users/EliseZamora_1/Documents/School/Education/Animal_Classification_Project/data/beaver/data/train/beaver - 1303 images\n",
      "Found: /Users/EliseZamora_1/Documents/School/Education/Animal_Classification_Project/data/mink/data/train/mink - 1317 images\n",
      "\n",
      "Verifying validation directories and image counts...\n",
      "Found: /Users/EliseZamora_1/Documents/School/Education/Animal_Classification_Project/data/red_fox/data/val/red_fox - 346 images\n",
      "Found: /Users/EliseZamora_1/Documents/School/Education/Animal_Classification_Project/data/black_bear/data/val/black_bear - 379 images\n",
      "Found: /Users/EliseZamora_1/Documents/School/Education/Animal_Classification_Project/data/beaver/data/val/beaver - 405 images\n",
      "Found: /Users/EliseZamora_1/Documents/School/Education/Animal_Classification_Project/data/mink/data/val/mink - 412 images\n"
     ]
    }
   ],
   "source": [
    "# Verify training directories and image counts\n",
    "print(\"Verifying training directories and image counts...\")\n",
    "for path in train_dirs:\n",
    "    if os.path.exists(path):\n",
    "        print(f\"Found: {path} - {len(os.listdir(path))} images\")\n",
    "    else:\n",
    "        print(f\"Missing: {path}\")\n",
    "\n",
    "# Verify validation directories and image counts\n",
    "print(\"\\nVerifying validation directories and image counts...\")\n",
    "for path in val_dirs:\n",
    "    if os.path.exists(path):\n",
    "        print(f\"Found: {path} - {len(os.listdir(path))} images\")\n",
    "    else:\n",
    "        print(f\"Missing: {path}\")\n"
   ]
  },
  {
   "cell_type": "code",
   "execution_count": 14,
   "metadata": {},
   "outputs": [
    {
     "name": "stdout",
     "output_type": "stream",
     "text": [
      "Found 1395 images belonging to 1 classes.\n",
      "Found 1297 images belonging to 1 classes.\n",
      "Found 1343 images belonging to 2 classes.\n",
      "Found 1317 images belonging to 1 classes.\n",
      "Found 346 images belonging to 1 classes.\n",
      "Found 379 images belonging to 1 classes.\n",
      "Found 425 images belonging to 2 classes.\n",
      "Found 412 images belonging to 1 classes.\n",
      "\n",
      "Training generators:\n",
      "Generator 1: 1395 samples, classes: {'red_fox': 0}\n",
      "Generator 2: 1297 samples, classes: {'black_bear': 0}\n",
      "Generator 3: 1343 samples, classes: {'animal beaver': 0, 'beaver': 1}\n",
      "Generator 4: 1317 samples, classes: {'mink': 0}\n",
      "\n",
      "Validation generators:\n",
      "Generator 1: 346 samples, classes: {'red_fox': 0}\n",
      "Generator 2: 379 samples, classes: {'black_bear': 0}\n",
      "Generator 3: 425 samples, classes: {'animal beaver': 0, 'beaver': 1}\n",
      "Generator 4: 412 samples, classes: {'mink': 0}\n"
     ]
    }
   ],
   "source": [
    "# Initialize ImageDataGenerators\n",
    "train_datagen = ImageDataGenerator(\n",
    "    rescale=1.0 / 255,\n",
    "    rotation_range=40,\n",
    "    width_shift_range=0.2,\n",
    "    height_shift_range=0.2,\n",
    "    shear_range=0.2,\n",
    "    zoom_range=0.2,\n",
    "    horizontal_flip=True\n",
    ")\n",
    "val_datagen = ImageDataGenerator(rescale=1.0 / 255)\n",
    "\n",
    "# Create generators for each training and validation directory\n",
    "train_generators = [train_datagen.flow_from_directory(\n",
    "    os.path.dirname(path),\n",
    "    target_size=(224, 224),\n",
    "    batch_size=32,\n",
    "    class_mode='categorical'\n",
    ") for path in train_dirs]\n",
    "\n",
    "val_generators = [val_datagen.flow_from_directory(\n",
    "    os.path.dirname(path),\n",
    "    target_size=(224, 224),\n",
    "    batch_size=32,\n",
    "    class_mode='categorical'\n",
    ") for path in val_dirs]\n",
    "\n",
    "# Verify generators\n",
    "print(\"\\nTraining generators:\")\n",
    "for i, gen in enumerate(train_generators):\n",
    "    print(f\"Generator {i + 1}: {gen.samples} samples, classes: {gen.class_indices}\")\n",
    "\n",
    "print(\"\\nValidation generators:\")\n",
    "for i, gen in enumerate(val_generators):\n",
    "    print(f\"Generator {i + 1}: {gen.samples} samples, classes: {gen.class_indices}\")\n"
   ]
  },
  {
   "cell_type": "code",
   "execution_count": 15,
   "metadata": {},
   "outputs": [
    {
     "name": "stdout",
     "output_type": "stream",
     "text": [
      "Class indices: {'beaver': 0, 'black_bear': 1, 'mink': 2, 'red_fox': 3}\n"
     ]
    }
   ],
   "source": [
    "print(\"Class indices:\", class_indices)"
   ]
  },
  {
   "cell_type": "code",
   "execution_count": 17,
   "metadata": {},
   "outputs": [
    {
     "name": "stdout",
     "output_type": "stream",
     "text": [
      "Combined train generator - x_batch shape: (32, 224, 224, 3)\n",
      "Combined train generator - y_batch shape: (32, 4)\n"
     ]
    }
   ],
   "source": [
    "# Custom generator with labels for combining multiple generators\n",
    "def custom_generator_with_labels(generators, class_indices):\n",
    "    \"\"\"\n",
    "    Custom generator that combines multiple generators and ensures proper labeling.\n",
    "\n",
    "    Args:\n",
    "        generators (list): List of data generators.\n",
    "        class_indices (dict): Dictionary mapping class names to numeric indices.\n",
    "\n",
    "    Yields:\n",
    "        tuple: Batch of images and their corresponding labels in one-hot encoded form.\n",
    "    \"\"\"\n",
    "    while True:\n",
    "        for gen in generators:\n",
    "            x, y = next(gen)  # Fetch the next batch of data\n",
    "            y = np.argmax(y, axis=1)  # Convert one-hot encoding to class indices\n",
    "            yield x, to_categorical(y, num_classes=len(class_indices))  # Return x and updated y\n",
    "\n",
    "# Combine generators using the updated custom generator with labels\n",
    "train_generator_combined = custom_generator_with_labels(train_generators, class_indices)\n",
    "val_generator_combined = custom_generator_with_labels(val_generators, class_indices)\n",
    "\n",
    "# Test the combined generator to confirm it works\n",
    "x_batch, y_batch = next(train_generator_combined)\n",
    "print(\"Combined train generator - x_batch shape:\", x_batch.shape)\n",
    "print(\"Combined train generator - y_batch shape:\", y_batch.shape)\n"
   ]
  },
  {
   "cell_type": "code",
   "execution_count": 18,
   "metadata": {},
   "outputs": [
    {
     "name": "stdout",
     "output_type": "stream",
     "text": [
      "Train batch shape: (32, 224, 224, 3), (32, 4)\n",
      "Validation batch shape: (32, 224, 224, 3), (32, 4)\n"
     ]
    }
   ],
   "source": [
    "# Check a batch from the training generator\n",
    "x_batch, y_batch = next(train_generator_combined)\n",
    "print(f\"Train batch shape: {x_batch.shape}, {y_batch.shape}\")\n",
    "\n",
    "# Check a batch from the validation generator\n",
    "x_val_batch, y_val_batch = next(val_generator_combined)\n",
    "print(f\"Validation batch shape: {x_val_batch.shape}, {y_val_batch.shape}\")\n"
   ]
  },
  {
   "cell_type": "code",
   "execution_count": 19,
   "metadata": {},
   "outputs": [
    {
     "name": "stderr",
     "output_type": "stream",
     "text": [
      "2024-12-13 11:35:30.242345: I metal_plugin/src/device/metal_device.cc:1154] Metal device set to: Apple M4 Max\n",
      "2024-12-13 11:35:30.242382: I metal_plugin/src/device/metal_device.cc:296] systemMemory: 36.00 GB\n",
      "2024-12-13 11:35:30.242394: I metal_plugin/src/device/metal_device.cc:313] maxCacheSize: 13.50 GB\n",
      "2024-12-13 11:35:30.242637: I tensorflow/core/common_runtime/pluggable_device/pluggable_device_factory.cc:305] Could not identify NUMA node of platform GPU ID 0, defaulting to 0. Your kernel may not have been built with NUMA support.\n",
      "2024-12-13 11:35:30.242653: I tensorflow/core/common_runtime/pluggable_device/pluggable_device_factory.cc:271] Created TensorFlow device (/job:localhost/replica:0/task:0/device:GPU:0 with 0 MB memory) -> physical PluggableDevice (device: 0, name: METAL, pci bus id: <undefined>)\n"
     ]
    }
   ],
   "source": [
    "# Load the pre-trained VGG16 model without the top layers\n",
    "conv_base = VGG16(weights='imagenet', include_top=False, input_shape=(224, 224, 3))\n",
    "\n",
    "# Freeze the convolutional base layers\n",
    "conv_base.trainable = False\n",
    "\n",
    "# Build the classification model\n",
    "model = Sequential([\n",
    "    conv_base,\n",
    "    Flatten(),\n",
    "    Dense(256, activation='relu'),\n",
    "    Dropout(0.5),\n",
    "    Dense(4, activation='softmax')  # Replace 4 with the actual number of classes if needed\n",
    "])\n"
   ]
  },
  {
   "cell_type": "code",
   "execution_count": 20,
   "metadata": {},
   "outputs": [],
   "source": [
    "# Compile the model\n",
    "model.compile(\n",
    "    loss='categorical_crossentropy',\n",
    "    optimizer=Adam(learning_rate=0.0001),\n",
    "    metrics=['accuracy']\n",
    ")\n"
   ]
  },
  {
   "cell_type": "code",
   "execution_count": 21,
   "metadata": {},
   "outputs": [
    {
     "name": "stdout",
     "output_type": "stream",
     "text": [
      "Epoch 1/10\n"
     ]
    },
    {
     "name": "stderr",
     "output_type": "stream",
     "text": [
      "2024-12-13 11:35:34.401985: I tensorflow/core/grappler/optimizers/custom_graph_optimizer_registry.cc:117] Plugin optimizer for device_type GPU is enabled.\n"
     ]
    },
    {
     "name": "stdout",
     "output_type": "stream",
     "text": [
      "\u001b[1m165/165\u001b[0m \u001b[32m━━━━━━━━━━━━━━━━━━━━\u001b[0m\u001b[37m\u001b[0m \u001b[1m25s\u001b[0m 136ms/step - accuracy: 0.6098 - loss: 1.8110 - val_accuracy: 0.7536 - val_loss: 0.7206\n",
      "Epoch 2/10\n",
      "\u001b[1m165/165\u001b[0m \u001b[32m━━━━━━━━━━━━━━━━━━━━\u001b[0m\u001b[37m\u001b[0m \u001b[1m23s\u001b[0m 138ms/step - accuracy: 0.6869 - loss: 1.1503 - val_accuracy: 0.8006 - val_loss: 0.5187\n",
      "Epoch 3/10\n",
      "\u001b[1m165/165\u001b[0m \u001b[32m━━━━━━━━━━━━━━━━━━━━\u001b[0m\u001b[37m\u001b[0m \u001b[1m24s\u001b[0m 146ms/step - accuracy: 0.6779 - loss: 1.1395 - val_accuracy: 0.8110 - val_loss: 0.5270\n",
      "Epoch 4/10\n",
      "\u001b[1m165/165\u001b[0m \u001b[32m━━━━━━━━━━━━━━━━━━━━\u001b[0m\u001b[37m\u001b[0m \u001b[1m23s\u001b[0m 139ms/step - accuracy: 0.6947 - loss: 1.0904 - val_accuracy: 0.8075 - val_loss: 0.5931\n",
      "Epoch 5/10\n",
      "\u001b[1m165/165\u001b[0m \u001b[32m━━━━━━━━━━━━━━━━━━━━\u001b[0m\u001b[37m\u001b[0m \u001b[1m21s\u001b[0m 130ms/step - accuracy: 0.6926 - loss: 1.1681 - val_accuracy: 0.8152 - val_loss: 0.5935\n",
      "Epoch 6/10\n",
      "\u001b[1m165/165\u001b[0m \u001b[32m━━━━━━━━━━━━━━━━━━━━\u001b[0m\u001b[37m\u001b[0m \u001b[1m22s\u001b[0m 133ms/step - accuracy: 0.7097 - loss: 1.0373 - val_accuracy: 0.8106 - val_loss: 0.6010\n",
      "Epoch 7/10\n",
      "\u001b[1m165/165\u001b[0m \u001b[32m━━━━━━━━━━━━━━━━━━━━\u001b[0m\u001b[37m\u001b[0m \u001b[1m27s\u001b[0m 164ms/step - accuracy: 0.7127 - loss: 1.0415 - val_accuracy: 0.8222 - val_loss: 0.5418\n",
      "Epoch 8/10\n",
      "\u001b[1m165/165\u001b[0m \u001b[32m━━━━━━━━━━━━━━━━━━━━\u001b[0m\u001b[37m\u001b[0m \u001b[1m35s\u001b[0m 216ms/step - accuracy: 0.7121 - loss: 1.0674 - val_accuracy: 0.8268 - val_loss: 0.5341\n",
      "Epoch 9/10\n",
      "\u001b[1m165/165\u001b[0m \u001b[32m━━━━━━━━━━━━━━━━━━━━\u001b[0m\u001b[37m\u001b[0m \u001b[1m38s\u001b[0m 231ms/step - accuracy: 0.7175 - loss: 1.0593 - val_accuracy: 0.8305 - val_loss: 0.4847\n",
      "Epoch 10/10\n",
      "\u001b[1m165/165\u001b[0m \u001b[32m━━━━━━━━━━━━━━━━━━━━\u001b[0m\u001b[37m\u001b[0m \u001b[1m35s\u001b[0m 210ms/step - accuracy: 0.7270 - loss: 0.9891 - val_accuracy: 0.8340 - val_loss: 0.5027\n"
     ]
    }
   ],
   "source": [
    "# Train the model\n",
    "history = model.fit(\n",
    "    train_generator_combined,  # Combined training data generator\n",
    "    validation_data=val_generator_combined,  # Validation data generator\n",
    "    steps_per_epoch=sum(gen.samples // gen.batch_size for gen in train_generators),  # Total steps per epoch\n",
    "    validation_steps=sum(gen.samples // gen.batch_size for gen in val_generators),  # Total validation steps\n",
    "    epochs=10,  # Number of epochs\n",
    "    verbose=1  # Ensure that training progress is printed to the console\n",
    ")\n"
   ]
  },
  {
   "cell_type": "code",
   "execution_count": 22,
   "metadata": {},
   "outputs": [
    {
     "data": {
      "image/png": "[encoded data removed]",
      "text/plain": [
       "<Figure size 640x480 with 1 Axes>"
      ]
     },
     "metadata": {},
     "output_type": "display_data"
    },
    {
     "data": {
      "image/png": "[encoded data removed]",
      "text/plain": [
       "<Figure size 640x480 with 1 Axes>"
      ]
     },
     "metadata": {},
     "output_type": "display_data"
    }
   ],
   "source": [
    "# Plot training and validation accuracy\n",
    "plt.plot(history.history['accuracy'], label='Train Accuracy')\n",
    "plt.plot(history.history['val_accuracy'], label='Val Accuracy')\n",
    "plt.title('Training and Validation Accuracy')\n",
    "plt.legend()\n",
    "plt.show()\n",
    "\n",
    "# Plot training and validation loss\n",
    "plt.plot(history.history['loss'], label='Train Loss')\n",
    "plt.plot(history.history['val_loss'], label='Val Loss')\n",
    "plt.title('Training and Validation Loss')\n",
    "plt.legend()\n",
    "plt.show()\n"
   ]
  },
  {
   "cell_type": "code",
   "execution_count": 23,
   "metadata": {},
   "outputs": [
    {
     "name": "stdout",
     "output_type": "stream",
     "text": [
      "\u001b[1m46/46\u001b[0m \u001b[32m━━━━━━━━━━━━━━━━━━━━\u001b[0m\u001b[37m\u001b[0m \u001b[1m5s\u001b[0m 105ms/step - accuracy: 0.8300 - loss: 0.4946\n",
      "Test Accuracy: 0.83\n"
     ]
    }
   ],
   "source": [
    "# Evaluate the model on the test set\n",
    "test_generator_combined = custom_generator_with_labels(val_generators, class_indices)\n",
    "test_steps = sum(gen.samples // gen.batch_size for gen in val_generators)\n",
    "test_loss, test_acc = model.evaluate(test_generator_combined, steps=test_steps)\n",
    "print(f\"Test Accuracy: {test_acc:.2f}\")\n"
   ]
  }
 ],
 "metadata": {
  "kernelspec": {
   "display_name": "Python (tf_env 3.9)",
   "language": "python",
   "name": "tf_env"
  },
  "language_info": {
   "codemirror_mode": {
    "name": "ipython",
    "version": 3
   },
   "file_extension": ".py",
   "mimetype": "text/x-python",
   "name": "python",
   "nbconvert_exporter": "python",
   "pygments_lexer": "ipython3",
   "version": "3.9.21"
  }
 },
 "nbformat": 4,
 "nbformat_minor": 2
}
